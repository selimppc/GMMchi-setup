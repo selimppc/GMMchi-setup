{
 "metadata": {
  "language_info": {
   "codemirror_mode": {
    "name": "ipython",
    "version": 3
   },
   "file_extension": ".py",
   "mimetype": "text/x-python",
   "name": "python",
   "nbconvert_exporter": "python",
   "pygments_lexer": "ipython3",
   "version": 3
  },
  "orig_nbformat": 2
 },
 "nbformat": 4,
 "nbformat_minor": 2,
 "cells": [
  {
   "cell_type": "code",
   "execution_count": null,
   "metadata": {},
   "outputs": [],
   "source": [
    "import numpy as np  \n",
    "import pandas as pd \n",
    "\n",
    "input_data_cancer = pd.read_csv(r'cancer_data.csv',    \n",
    "                                index_col=[0],\n",
    "                                header=0,\n",
    "                                na_values='---')"
   ]
  },
  {
   "cell_type": "code",
   "execution_count": null,
   "metadata": {},
   "outputs": [],
   "source": [
    "#calculating background threshold\n",
    "\n",
    "means, std, filt = GMMchi.GMM_modelingt('TCGA Colorectal Cancer', input_data_cancer, log2transform=True, verbosity = True, Single_tail_validation=False, calc_back = True)"
   ]
  },
  {
   "cell_type": "code",
   "execution_count": null,
   "metadata": {},
   "outputs": [],
   "source": [
    "#Filter and Remove Non-expressing Genes\n",
    "\n",
    "input_dataf = GMMchi.probe_filter(input_data_cancer, log2transform=True, filt=-0.829)"
   ]
  },
  {
   "cell_type": "code",
   "execution_count": null,
   "metadata": {},
   "outputs": [],
   "source": [
    "#Categorizing the Distribution a Single Gene\n",
    "\n",
    "gene = 'TGFB1' #Transforming growth factor beta 1\n",
    "\n",
    "info, classif, categories, chi, bins, f = GMMchi.GMM_modelingt(gene, input_dataf, log2transform = True, filt=-0.83, meanf= -3.3, stdf = 1.95)"
   ]
  },
  {
   "cell_type": "code",
   "execution_count": null,
   "metadata": {},
   "outputs": [],
   "source": [
    "#Large-scale Categorization of the Input Data (All genes)\n",
    "\n",
    "genes = input_dataf.index #the index of the dataframe or a list of all genes\n",
    "categorize = [] #append as list of list of categorized data\n",
    "\n",
    "for gene in tqdm(genes):\n",
    "    info, classif, categories, chi, bins, f = GMMchi.GMM_modelingt(gene, input_dataf, log2transform=True, filt=6.5924, meanf= 5.14, stdf = 1.01)\n",
    "\n",
    "    categorize.append(categories)\n",
    "    \n",
    "    del classif, categories, chi #free up memory\n",
    "   \n",
    "categorized_df = pd.DataFrame(categorize, index = input_dataf.index, columns = input_dataf.columns)"
   ]
  },
  {
   "cell_type": "code",
   "execution_count": null,
   "metadata": {},
   "outputs": [],
   "source": [
    "#Run a 2x2 Table Analysis\n",
    "\n",
    "hits, significant_hits, table_sig_hits = GMMchi.find_hits(categorized_df, primary='TGFB1')\n",
    "\n",
    "twobytwo_table = pd.DataFrame(table_sig_hits, columns = ['+/+', '+/-', '-/+', '-/-', 'p-value', 'R value', 'Inclusion Criterion'], index = significant_hits.T.columns[1:])\n",
    "\n",
    "#save your 2x2 table for further analysis\n",
    "twobytwo_table.sort_values('R value', ascending=False).to_csv(r'2by2table_tgfb1.csv')"
   ]
  }
 ]
}